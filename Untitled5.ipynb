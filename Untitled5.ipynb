{
 "cells": [
  {
   "cell_type": "markdown",
   "id": "d3d40220-6157-4e49-9614-b16aa2b1e4b4",
   "metadata": {},
   "source": [
    "\n",
    "# coursera project\n",
    "\n",
    "\n"
   ]
  },
  {
   "cell_type": "markdown",
   "id": "0615732e-fa13-44da-88ac-5eeb83a7526e",
   "metadata": {},
   "source": [
    "My name is Dharmendra Sharma currently pursuing MSc Physics Chandigarh University"
   ]
  },
  {
   "cell_type": "markdown",
   "id": "54b5cf71-e43f-4c92-a190-afbffbea15e7",
   "metadata": {},
   "source": [
    "Data science languages are\n",
    "1. Python\n",
    "2. R\n",
    "3. Matlab\n",
    "4. SQL\n",
    "5. Scala\n",
    "6. JAVA"
   ]
  },
  {
   "cell_type": "markdown",
   "id": "47db27de-a80a-4447-8379-bb4cf72df301",
   "metadata": {},
   "source": [
    "Python Libraries\n",
    "NumPy  \n",
    "Pandas \n",
    "Matplotlib \n",
    "Seaborn \n",
    "Scikit-Learn \n",
    "TensorFlow \n",
    "Keras \n",
    "PyTorch \n",
    "Statsmodels \n",
    "Scrapy \n",
    "\n",
    "R Libraries\n",
    "ggplot2\n",
    "dplyr \n",
    "tidyr "
   ]
  },
  {
   "cell_type": "markdown",
   "id": "077f0cd8-52eb-4fe9-ad2c-ba5514d86abc",
   "metadata": {},
   "source": [
    "Here’s a table of data science tools:\n",
    "\n",
    "| **Category**         | **Tool**           | **Description**                                                                                          |\n",
    "|----------------------|--------------------|----------------------------------------------------------------------------------------------------------|\n",
    "| **Programming Languages** | Python             | General-purpose language with extensive libraries for data science, including NumPy, Pandas, and Scikit-Learn. |\n",
    "|                      | R                  | Specialized in statistical analysis and visualization, with libraries like ggplot2 and dplyr.             |\n",
    "|                      | Julia               | High-performance language for numerical and scientific computing.                                      |\n",
    "|                      | SQL                 | Language for querying and managing relational databases.                                                |\n",
    "| **Data Manipulation** | Pandas (Python)     | Data manipulation and analysis library providing DataFrames.                                             |\n",
    "|                      | dplyr (R)           | Data manipulation library for transforming and summarizing data.                                         |\n",
    "|                      | DataFrames.jl (Julia) | Provides a DataFrame structure for data manipulation.                                                  |\n",
    "| **Visualization**    | Matplotlib (Python) | Plotting library for creating static, animated, and interactive visualizations.                         |\n",
    "|                      | ggplot2 (R)         | Visualization package for creating complex plots with ease.                                              |\n",
    "|                      | Plotly (Python)     | Interactive graphing library for creating web-based visualizations.                                      |\n",
    "|                      | Plots.jl (Julia)    | Library for creating visualizations in Julia.                                                            |\n",
    "| **Machine Learning** | Scikit-Learn (Python) | Library for machine learning providing simple and efficient tools for data mining and analysis.         |\n",
    "|                      | TensorFlow (Python) | Deep learning framework for building and training neural networks.                            \n",
    "                                         |\n",
    "| **Data Handling**    | Apache Hadoop       | Framework for distributed storage and processing of large data sets.                                     |\n",
    "|                      | Apache Spark        | Unified analytics engine for big data processing, with built-in modules for SQL, streaming, and machine learning. |\n",
    "| **Integrated Development Environments (IDEs)** | Jupyter Notebook     | Web-based interactive computing environment for creating and sharing documents with code, visualizations, and narrative text. |\n",
    "|                      | RStudio             | IDE for R programming with a focus on data analysis and visualization.                                   |\n",
    "|                      | PyCharm             | IDE for Python development with support for data science tools and libraries.                           |\n",
    "| **Big Data**         | Apache Kafka        | Distributed event streaming platform for building real-time data pipelines and streaming applications.  |\n",
    "|                      | Apache Flink        | Stream processing framework for real-time analytics.                                                     |\n",
    "| **Version Control**  | Git                 | Version control system for tracking changes in code and collaborative work.                              |\n",
    "|                      | GitHub              | Platform for hosting and collaborating on Git repositories.                                               |\n",
    "\n"
   ]
  },
  {
   "cell_type": "markdown",
   "id": "cdcc525c-fab2-4f13-a12f-64df0c5eb8fa",
   "metadata": {},
   "source": [
    "exercise 7\n",
    "Basic Arithmetic\n",
    "Addition\n",
    "5+3=8\n",
    "12+7=19\n",
    "Subtraction\n",
    "9−4=5\n",
    "15−6=9\n",
    "Multiplication\n",
    "7×3=21\n",
    "4×5=20\n",
    "Division\n",
    "20÷4=5\n",
    "18÷3=6"
   ]
  },
  {
   "cell_type": "code",
   "execution_count": 4,
   "id": "5ad17342-865b-4eca-922f-0e43b4734f77",
   "metadata": {},
   "outputs": [
    {
     "data": {
      "text/plain": [
       "(15, 17)"
      ]
     },
     "execution_count": 4,
     "metadata": {},
     "output_type": "execute_result"
    }
   ],
   "source": [
    "# exercise 8\n",
    "# Define the numbers\n",
    "a = 5\n",
    "b = 3\n",
    "c = 2\n",
    "\n",
    "# Perform the multiplication and addition\n",
    "multiplication_result = a * b\n",
    "addition_result = multiplication_result + c\n",
    "\n",
    "# Output the results\n",
    "multiplication_result, addition_result\n"
   ]
  },
  {
   "cell_type": "code",
   "execution_count": 5,
   "id": "4e74b58d-27cf-4ddf-9006-f8c835a49f07",
   "metadata": {},
   "outputs": [
    {
     "data": {
      "text/plain": [
       "2.5"
      ]
     },
     "execution_count": 5,
     "metadata": {},
     "output_type": "execute_result"
    }
   ],
   "source": [
    "# exercise 9\n",
    "# Define the number of minutes\n",
    "minutes = 150\n",
    "\n",
    "# Convert minutes to hours\n",
    "hours = minutes / 60\n",
    "\n",
    "\n",
    "hours\n"
   ]
  },
  {
   "cell_type": "markdown",
   "id": "d65b4b0e-4826-47ca-9c1c-8c10998441d0",
   "metadata": {},
   "source": [
    "objectives\n",
    "1.To get the knowledge of the course\n",
    "2.To apply the knowledge learned from the course"
   ]
  },
  {
   "cell_type": "markdown",
   "id": "3814f43b-fb95-4840-abcc-008faf77c63e",
   "metadata": {},
   "source": [
    "Exercise 11\n",
    "Author's name- Dharmendra Sharma"
   ]
  },
  {
   "cell_type": "code",
   "execution_count": null,
   "id": "06e5d9c5-efcf-4337-a560-b27ef46e8c7f",
   "metadata": {},
   "outputs": [],
   "source": []
  }
 ],
 "metadata": {
  "kernelspec": {
   "display_name": "Python 3 (ipykernel)",
   "language": "python",
   "name": "python3"
  },
  "language_info": {
   "codemirror_mode": {
    "name": "ipython",
    "version": 3
   },
   "file_extension": ".py",
   "mimetype": "text/x-python",
   "name": "python",
   "nbconvert_exporter": "python",
   "pygments_lexer": "ipython3",
   "version": "3.12.1"
  }
 },
 "nbformat": 4,
 "nbformat_minor": 5
}
